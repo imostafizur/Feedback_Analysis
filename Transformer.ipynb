{
  "cells": [
    {
      "cell_type": "markdown",
      "metadata": {
        "colab_type": "text",
        "id": "view-in-github"
      },
      "source": [
        "<a href=\"https://colab.research.google.com/github/imostafizur/Feedback_Analysis/blob/master/Transformer.ipynb\" target=\"_parent\"><img src=\"https://colab.research.google.com/assets/colab-badge.svg\" alt=\"Open In Colab\"/></a>"
      ]
    },
    {
      "cell_type": "code",
      "execution_count": 1,
      "metadata": {
        "id": "CJa-NkxWa7mO"
      },
      "outputs": [],
      "source": [
        "import pandas as pd\n",
        "import numpy as np\n",
        "import matplotlib.pyplot as plt\n",
        "import seaborn as sns\n",
        "import nltk\n",
        "import string\n",
        "import re\n",
        "import warnings\n",
        "warnings.filterwarnings(\"ignore\", category=DeprecationWarning)\n",
        "%matplotlib inline"
      ]
    },
    {
      "cell_type": "code",
      "execution_count": 2,
      "metadata": {
        "id": "ZoJqLxbwjNEc"
      },
      "outputs": [],
      "source": [
        "import os\n",
        "\n",
        "os.environ['KAGGLE_USERNAME'] = \"imostafizur\" # username from the json file\n",
        "os.environ['KAGGLE_KEY'] = \"209f4b70995998e465b2702534f7a5ff\" # key from the json file"
      ]
    },
    {
      "cell_type": "code",
      "execution_count": 3,
      "metadata": {
        "colab": {
          "base_uri": "https://localhost:8080/"
        },
        "id": "GqNb9CWZjT65",
        "outputId": "8a8fa702-65d6-4aeb-9f10-f23b8de671c7"
      },
      "outputs": [
        {
          "name": "stderr",
          "output_type": "stream",
          "text": [
            "'kaggle' is not recognized as an internal or external command,\n",
            "operable program or batch file.\n"
          ]
        }
      ],
      "source": [
        "!kaggle datasets download -d grikomsn/amazon-cell-phones-reviews"
      ]
    },
    {
      "cell_type": "code",
      "execution_count": 4,
      "metadata": {
        "colab": {
          "base_uri": "https://localhost:8080/"
        },
        "id": "gEAU1Qf8kFiK",
        "outputId": "3fc780fe-f6d9-4db7-99af-9d81d517726f"
      },
      "outputs": [
        {
          "name": "stderr",
          "output_type": "stream",
          "text": [
            "'unzip' is not recognized as an internal or external command,\n",
            "operable program or batch file.\n"
          ]
        }
      ],
      "source": [
        "!unzip amazon-cell-phones-reviews.zip"
      ]
    },
    {
      "cell_type": "code",
      "execution_count": 5,
      "metadata": {
        "id": "212sVwZOjiil"
      },
      "outputs": [],
      "source": [
        "df0 = pd.read_csv('20191226-items.csv')"
      ]
    },
    {
      "cell_type": "code",
      "execution_count": 6,
      "metadata": {
        "id": "UtGT-8XEkAZB"
      },
      "outputs": [],
      "source": [
        "# create a new dataframe with columns for product ID, brand, and model\n",
        "product_mapping = df0[['asin', 'brand', 'title']].copy()\n",
        "\n",
        "# rename the columns to match the desired format\n",
        "product_mapping = product_mapping.rename(\n",
        "    columns={'asin': 'product_id', 'brand': 'product_brand', 'title': 'product_model_name'})\n",
        "\n",
        "# save the product mapping as a CSV file\n",
        "product_mapping.to_csv('product_mapping.csv', index=False)"
      ]
    },
    {
      "cell_type": "code",
      "execution_count": 27,
      "metadata": {
        "id": "sOh5Zq9EkXIg"
      },
      "outputs": [],
      "source": [
        "df1 = pd.read_csv('product_mapping.csv')"
      ]
    },
    {
      "cell_type": "code",
      "execution_count": 28,
      "metadata": {
        "colab": {
          "base_uri": "https://localhost:8080/"
        },
        "id": "lcWxJ7hulGMR",
        "outputId": "ebb16786-200b-4898-84f2-afce676cd8bb"
      },
      "outputs": [
        {
          "data": {
            "text/plain": [
              "Index(['product_id', 'product_brand', 'product_model_name'], dtype='object')"
            ]
          },
          "execution_count": 28,
          "metadata": {},
          "output_type": "execute_result"
        }
      ],
      "source": [
        "df1.columns"
      ]
    },
    {
      "cell_type": "code",
      "execution_count": 29,
      "metadata": {
        "id": "87AWAKyzkoho"
      },
      "outputs": [],
      "source": [
        "df2= pd.read_csv('20191226-reviews.csv')"
      ]
    },
    {
      "cell_type": "code",
      "execution_count": 30,
      "metadata": {
        "colab": {
          "base_uri": "https://localhost:8080/"
        },
        "id": "K2jVc_talcWn",
        "outputId": "7fe493de-c6a0-454f-fa84-66d1839e842c"
      },
      "outputs": [
        {
          "data": {
            "text/plain": [
              "Index(['asin', 'name', 'rating', 'date', 'verified', 'title', 'body',\n",
              "       'helpfulVotes'],\n",
              "      dtype='object')"
            ]
          },
          "execution_count": 30,
          "metadata": {},
          "output_type": "execute_result"
        }
      ],
      "source": [
        "df2.columns"
      ]
    },
    {
      "cell_type": "code",
      "execution_count": 32,
      "metadata": {},
      "outputs": [],
      "source": [
        "# Drop 'asin', 'name', 'rating', 'date', 'verified', 'helpfulVotes'\n",
        "df2.drop(['asin', 'name', 'rating', 'date', 'verified', 'helpfulVotes'], axis=1, inplace=True)"
      ]
    },
    {
      "cell_type": "code",
      "execution_count": 33,
      "metadata": {},
      "outputs": [
        {
          "data": {
            "text/html": [
              "<div><div id=e6e2edc2-9761-427a-b6c0-08bc1d363d58 style=\"display:none; background-color:#9D6CFF; color:white; width:200px; height:30px; padding-left:5px; border-radius:4px; flex-direction:row; justify-content:space-around; align-items:center;\" onmouseover=\"this.style.backgroundColor='#BA9BF8'\" onmouseout=\"this.style.backgroundColor='#9D6CFF'\" onclick=\"window.commands?.execute('create-mitosheet-from-dataframe-output');\">See Full Dataframe in Mito</div> <script> if (window.commands?.hasCommand('create-mitosheet-from-dataframe-output')) document.getElementById('e6e2edc2-9761-427a-b6c0-08bc1d363d58').style.display = 'flex' </script> <table border=\"1\" class=\"dataframe\">\n",
              "  <thead>\n",
              "    <tr style=\"text-align: right;\">\n",
              "      <th></th>\n",
              "      <th>title</th>\n",
              "      <th>body</th>\n",
              "    </tr>\n",
              "  </thead>\n",
              "  <tbody>\n",
              "    <tr>\n",
              "      <th>0</th>\n",
              "      <td>Def not best, but not worst</td>\n",
              "      <td>I had the Samsung A600 for awhile which is absolute doo doo. You can read my review on it and detect my rage at the stupid thing. It finally died on me so I used this Nokia phone I bought in a garage sale for $1. I wonder y she sold it so cheap?... Bad: ===&gt; I hate the menu. It takes forever to get to what you want because you have to scroll endlessly. Usually phones have numbered categories so u can simply press the # and get where you want to go. ===&gt; It's a pain to put it on silent or vibrate. If you're in class and it rings, you have to turn it off immediately. There's no fast way to silence the damn thing. Always remember to put it on silent! I learned that the hard way. ===&gt; It's so true about the case. It's a mission to get off and will break ur nails in the process. Also, you'll damage the case each time u try. For some reason the phone started giving me problems once I did succeed in opening it. ===&gt; Buttons could be a bit bigger. Vibration could be stronger. Good: ===&gt; Reception is not too shabby. I was using it in the elevator which is a remarkable feat considering my old phone would lose service by simply putting it in my pocket. ===&gt; Compared to my old Samsung, this phone works quite well. The ring tones are loud enough to hear and the phone actually charges quickly and has great battery life. It doesn't heat up like a potatoe in the oven either during long phone convos. ===&gt; Nice bright, large screen. ===&gt; Cute ways to customize it. Scroll bar can be set to purple, pink, aqua, orange, etc. Overall: Okay phone. It serves its purpose but definitely pales in comparison to these new phones coming out from Sprint. Why get so so when you can get great?</td>\n",
              "    </tr>\n",
              "    <tr>\n",
              "      <th>1</th>\n",
              "      <td>Text Messaging Doesn't Work</td>\n",
              "      <td>Due to a software issue between Nokia and Sprint this phone's text messaging capabilities don't work with Sprint's system and won't until a software patch comes out \"some time in the next few months\". You will have to spend at least 1 hour with Sprint's award winning customer service team to find someone who will admit this to you. The problem is that Nokia designed their phones so that incoming messages are retrieved quickly and then viewed \"offline\" the way most providers work. Sprint, however, likes to have people hook up to their server first and then stay connected, burning minutes while they check their inbox, compose a reply and wait for the Sprint server to respond so they can send it out. Innovation in money-making at its finest.</td>\n",
              "    </tr>\n",
              "    <tr>\n",
              "      <th>2</th>\n",
              "      <td>Love This Phone</td>\n",
              "      <td>This is a great, reliable phone. I also purchased this phone after my samsung A460 died. The menu is easily comprehendable and speed dialing is available for around 300 numbers. Voice dialing is also a nice feature, but it takes longer than speed dialing. The only thing that bothers me is the games...Nokia seems to have taken snake (1 and 2) off their phones. There is a skydiving game, bowling, and tennis (like pong). The ringers are very nice, and a feature is available to choose a different ringer for each person calling. However, ringtones are not available online to download to this phone. You're pretty much stuck with what you have. There are vibrating ringtones and regular (midi) polyphonic tones. All they need are covers in a reasonable price range...</td>\n",
              "    </tr>\n",
              "    <tr>\n",
              "      <th>3</th>\n",
              "      <td>Love the Phone, BUT...!</td>\n",
              "      <td>I love the phone and all, because I really did need one, but I didn't expect the price of the bill when I received one. Also, I've had my phone for a little over two months now and still have yet to receive my free accessories that were supposed to come with the phone. Every time I call the company, they keep telling me to wait a couple of weeks, and that I should be receiving it shortly. Other than that, I do love the phone and all that I am able to do with it; and I'm not just talking about making the phone calls! :)</td>\n",
              "    </tr>\n",
              "    <tr>\n",
              "      <th>4</th>\n",
              "      <td>Great phone service and options, lousy case!</td>\n",
              "      <td>The phone has been great for every purpose it offers, except the day i bought it-i couldnt get the case off. You can take the case off to put your own pictures in the jaket which is super cool, but when i took it back to the store-an employee said they were meant to be hard to get off. Well, he could barely even get it off- he came close to snapping the casing in half. I was never able to get it off after that which isnt THAT big of a deal, but it got dirty under the clear casing and it looks really dirty now. MAKE SURE YOU CAN GET YOUR CASE ON AND OFF! Oh and you have to charge it ALL off the time.</td>\n",
              "    </tr>\n",
              "  </tbody>\n",
              "</table></div>"
            ],
            "text/plain": [
              "                                          title  \\\n",
              "0                   Def not best, but not worst   \n",
              "1                   Text Messaging Doesn't Work   \n",
              "2                               Love This Phone   \n",
              "3                       Love the Phone, BUT...!   \n",
              "4  Great phone service and options, lousy case!   \n",
              "\n",
              "                                                body  \n",
              "0  I had the Samsung A600 for awhile which is abs...  \n",
              "1  Due to a software issue between Nokia and Spri...  \n",
              "2  This is a great, reliable phone. I also purcha...  \n",
              "3  I love the phone and all, because I really did...  \n",
              "4  The phone has been great for every purpose it ...  "
            ]
          },
          "execution_count": 33,
          "metadata": {},
          "output_type": "execute_result"
        }
      ],
      "source": [
        "df2.head()"
      ]
    }
  ],
  "metadata": {
    "colab": {
      "authorship_tag": "ABX9TyNMNohZ2IGL2NeTF29f3mzV",
      "include_colab_link": true,
      "provenance": []
    },
    "kernelspec": {
      "display_name": "Python 3",
      "language": "python",
      "name": "python3"
    },
    "language_info": {
      "codemirror_mode": {
        "name": "ipython",
        "version": 3
      },
      "file_extension": ".py",
      "mimetype": "text/x-python",
      "name": "python",
      "nbconvert_exporter": "python",
      "pygments_lexer": "ipython3",
      "version": "3.10.7"
    },
    "vscode": {
      "interpreter": {
        "hash": "28328718739f0b0dcd54909b78dca6ccaf0c916f6b7d08f276d2b5deebde5e28"
      }
    }
  },
  "nbformat": 4,
  "nbformat_minor": 0
}
