{
  "nbformat": 4,
  "nbformat_minor": 0,
  "metadata": {
    "colab": {
      "provenance": [],
      "authorship_tag": "ABX9TyMBK+AopwYiyE4B7aAt418Y",
      "include_colab_link": true
    },
    "kernelspec": {
      "name": "python3",
      "display_name": "Python 3"
    },
    "language_info": {
      "name": "python"
    }
  },
  "cells": [
    {
      "cell_type": "markdown",
      "metadata": {
        "id": "view-in-github",
        "colab_type": "text"
      },
      "source": [
        "<a href=\"https://colab.research.google.com/github/imostafizur/Feedback_Analysis/blob/master/Transformer.ipynb\" target=\"_parent\"><img src=\"https://colab.research.google.com/assets/colab-badge.svg\" alt=\"Open In Colab\"/></a>"
      ]
    },
    {
      "cell_type": "code",
      "source": [
        "import pandas as pd\n",
        "import numpy as np\n",
        "import matplotlib.pyplot as plt\n",
        "import seaborn as sns\n",
        "import nltk\n",
        "import string\n",
        "import re\n",
        "import warnings\n",
        "warnings.filterwarnings(\"ignore\", category=DeprecationWarning)\n",
        "%matplotlib inline"
      ],
      "metadata": {
        "id": "CJa-NkxWa7mO"
      },
      "execution_count": 19,
      "outputs": []
    },
    {
      "cell_type": "code",
      "source": [
        "import os\n",
        "\n",
        "os.environ['KAGGLE_USERNAME'] = \"imostafizur\" # username from the json file\n",
        "os.environ['KAGGLE_KEY'] = \"209f4b70995998e465b2702534f7a5ff\" # key from the json file"
      ],
      "metadata": {
        "id": "ZoJqLxbwjNEc"
      },
      "execution_count": 27,
      "outputs": []
    },
    {
      "cell_type": "code",
      "source": [
        "!kaggle datasets download -d grikomsn/amazon-cell-phones-reviews"
      ],
      "metadata": {
        "colab": {
          "base_uri": "https://localhost:8080/"
        },
        "id": "GqNb9CWZjT65",
        "outputId": "8a8fa702-65d6-4aeb-9f10-f23b8de671c7"
      },
      "execution_count": 28,
      "outputs": [
        {
          "output_type": "stream",
          "name": "stdout",
          "text": [
            "Downloading amazon-cell-phones-reviews.zip to /content\n",
            "\r  0% 0.00/8.84M [00:00<?, ?B/s]\n",
            "\r100% 8.84M/8.84M [00:00<00:00, 108MB/s]\n"
          ]
        }
      ]
    },
    {
      "cell_type": "code",
      "source": [
        "!unzip amazon-cell-phones-reviews.zip"
      ],
      "metadata": {
        "colab": {
          "base_uri": "https://localhost:8080/"
        },
        "id": "gEAU1Qf8kFiK",
        "outputId": "3fc780fe-f6d9-4db7-99af-9d81d517726f"
      },
      "execution_count": 31,
      "outputs": [
        {
          "output_type": "stream",
          "name": "stdout",
          "text": [
            "Archive:  amazon-cell-phones-reviews.zip\n",
            "  inflating: 20191226-items.csv      \n",
            "  inflating: 20191226-reviews.csv    \n"
          ]
        }
      ]
    },
    {
      "cell_type": "code",
      "source": [
        "df0 = pd.read_csv('20191226-items.csv')"
      ],
      "metadata": {
        "id": "212sVwZOjiil"
      },
      "execution_count": 32,
      "outputs": []
    },
    {
      "cell_type": "code",
      "source": [
        "# create a new dataframe with columns for product ID, brand, and model\n",
        "product_mapping = df[['asin', 'brand', 'title']].copy()\n",
        "\n",
        "# rename the columns to match the desired format\n",
        "product_mapping = product_mapping.rename(\n",
        "    columns={'asin': 'product_id', 'brand': 'product_brand', 'title': 'product_model_name'})\n",
        "\n",
        "# save the product mapping as a CSV file\n",
        "product_mapping.to_csv('product_mapping.csv', index=False)"
      ],
      "metadata": {
        "id": "UtGT-8XEkAZB"
      },
      "execution_count": 34,
      "outputs": []
    },
    {
      "cell_type": "code",
      "source": [
        "df1 = pd.read_csv('product_mapping.csv')"
      ],
      "metadata": {
        "id": "sOh5Zq9EkXIg"
      },
      "execution_count": 36,
      "outputs": []
    },
    {
      "cell_type": "code",
      "source": [
        "df1.columns"
      ],
      "metadata": {
        "colab": {
          "base_uri": "https://localhost:8080/"
        },
        "id": "lcWxJ7hulGMR",
        "outputId": "ebb16786-200b-4898-84f2-afce676cd8bb"
      },
      "execution_count": 42,
      "outputs": [
        {
          "output_type": "execute_result",
          "data": {
            "text/plain": [
              "Index(['product_id', 'product_brand', 'product_model_name'], dtype='object')"
            ]
          },
          "metadata": {},
          "execution_count": 42
        }
      ]
    },
    {
      "cell_type": "code",
      "source": [
        "df2= pd.read_csv('20191226-reviews.csv')"
      ],
      "metadata": {
        "id": "87AWAKyzkoho"
      },
      "execution_count": 55,
      "outputs": []
    },
    {
      "cell_type": "code",
      "source": [
        "df2.columns"
      ],
      "metadata": {
        "colab": {
          "base_uri": "https://localhost:8080/"
        },
        "id": "K2jVc_talcWn",
        "outputId": "7fe493de-c6a0-454f-fa84-66d1839e842c"
      },
      "execution_count": 56,
      "outputs": [
        {
          "output_type": "execute_result",
          "data": {
            "text/plain": [
              "Index(['asin', 'name', 'rating', 'date', 'verified', 'title', 'body',\n",
              "       'helpfulVotes'],\n",
              "      dtype='object')"
            ]
          },
          "metadata": {},
          "execution_count": 56
        }
      ]
    }
  ]
}